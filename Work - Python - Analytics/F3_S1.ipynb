{
  "nbformat": 4,
  "nbformat_minor": 0,
  "metadata": {
    "colab": {
      "name": "F3 - S1.ipynb",
      "provenance": [],
      "collapsed_sections": [
        "gcw0M-VnLIVM",
        "MAldKj8gLqVB",
        "laM8HSF-L0R-",
        "YDL7oVrzL_40",
        "i03RXpUuNkAT",
        "0DEUlokMN9tI",
        "vszgERPDOMkr"
      ],
      "mount_file_id": "1I69LySu1qvEcJ0EsqVirPEYQT8RNkOpo",
      "authorship_tag": "ABX9TyPzdreTftOb5bXExhtY0nXo",
      "include_colab_link": true
    },
    "kernelspec": {
      "name": "python3",
      "display_name": "Python 3"
    },
    "language_info": {
      "name": "python"
    }
  },
  "cells": [
    {
      "cell_type": "markdown",
      "metadata": {
        "id": "view-in-github",
        "colab_type": "text"
      },
      "source": [
        "<a href=\"https://colab.research.google.com/github/ispineda/Bedu-Santander/blob/main/Python-Analytics/F3_S1.ipynb\" target=\"_parent\"><img src=\"https://colab.research.google.com/assets/colab-badge.svg\" alt=\"Open In Colab\"/></a>"
      ]
    },
    {
      "cell_type": "markdown",
      "metadata": {
        "id": "i6f-2RMSZ0YK"
      },
      "source": [
        "# Análisis de datos con python"
      ]
    },
    {
      "cell_type": "markdown",
      "metadata": {
        "id": "kDrdcuCbZ83Q"
      },
      "source": [
        "## Sesión 1. Estimadores de Locación y Variabilidad\n"
      ]
    },
    {
      "cell_type": "markdown",
      "metadata": {
        "id": "gcw0M-VnLIVM"
      },
      "source": [
        "### Ejemplo 1: Estimados de Locación"
      ]
    },
    {
      "cell_type": "markdown",
      "metadata": {
        "id": "GohXCvRQmEtk"
      },
      "source": [
        "1. Objetivos:\n",
        "    - Aprender a calcular estimados de locación utilizando `pandas`.\n",
        "---\n",
        "    \n",
        "2. Desarrollo:"
      ]
    },
    {
      "cell_type": "markdown",
      "metadata": {
        "id": "uZsKh40mmEtq"
      },
      "source": [
        "Vamos a utilizar un primer dataset para aprender a calcular estimados de locación usando `pandas`.\n",
        "\n",
        "El dataset que usaremos en esta sesión contiene información acerca de propiedades que estuvieron (o están) en venta en la ciudad de Melbourne, Australia. El dataset contiene las características físicas de la propiedad, su locación, el tipo de vivienda que es y el precio de la propiedad.\n",
        "\n",
        "Vamos a analizar la variable precio para entender cómo están distribuidos los precios de propiedades en esta ciudad."
      ]
    },
    {
      "cell_type": "code",
      "metadata": {
        "id": "vdlqz2SkatWU"
      },
      "source": [
        "import pandas as pd\n",
        "from google.colab import drive"
      ],
      "execution_count": 5,
      "outputs": []
    },
    {
      "cell_type": "code",
      "metadata": {
        "colab": {
          "base_uri": "https://localhost:8080/"
        },
        "id": "WiP_SyXDbNp1",
        "outputId": "32d38c63-7797-4440-a046-65a04be920ab"
      },
      "source": [
        "drive.mount('/content/drive')"
      ],
      "execution_count": 6,
      "outputs": [
        {
          "output_type": "stream",
          "name": "stdout",
          "text": [
            "Drive already mounted at /content/drive; to attempt to forcibly remount, call drive.mount(\"/content/drive\", force_remount=True).\n"
          ]
        }
      ]
    },
    {
      "cell_type": "code",
      "metadata": {
        "id": "U8QBaebHbVZ7"
      },
      "source": [
        "df = pd.read_csv('/content/drive/MyDrive/Datasets/melbourne_housing-clean.csv')"
      ],
      "execution_count": 3,
      "outputs": []
    },
    {
      "cell_type": "code",
      "metadata": {
        "colab": {
          "base_uri": "https://localhost:8080/",
          "height": 360
        },
        "id": "XV3WjkMNbpXz",
        "outputId": "76277896-f0f6-42a1-f424-f111f000d945"
      },
      "source": [
        "df.head()"
      ],
      "execution_count": 7,
      "outputs": [
        {
          "output_type": "execute_result",
          "data": {
            "text/html": [
              "<div>\n",
              "<style scoped>\n",
              "    .dataframe tbody tr th:only-of-type {\n",
              "        vertical-align: middle;\n",
              "    }\n",
              "\n",
              "    .dataframe tbody tr th {\n",
              "        vertical-align: top;\n",
              "    }\n",
              "\n",
              "    .dataframe thead th {\n",
              "        text-align: right;\n",
              "    }\n",
              "</style>\n",
              "<table border=\"1\" class=\"dataframe\">\n",
              "  <thead>\n",
              "    <tr style=\"text-align: right;\">\n",
              "      <th></th>\n",
              "      <th>Unnamed: 0</th>\n",
              "      <th>suburb</th>\n",
              "      <th>address</th>\n",
              "      <th>rooms</th>\n",
              "      <th>type</th>\n",
              "      <th>price</th>\n",
              "      <th>method</th>\n",
              "      <th>seller_g</th>\n",
              "      <th>date</th>\n",
              "      <th>distance</th>\n",
              "      <th>postcode</th>\n",
              "      <th>bedroom_2</th>\n",
              "      <th>bathroom</th>\n",
              "      <th>car</th>\n",
              "      <th>land_size</th>\n",
              "      <th>council_area</th>\n",
              "      <th>latitude</th>\n",
              "      <th>longitude</th>\n",
              "      <th>region_name</th>\n",
              "      <th>property_count</th>\n",
              "    </tr>\n",
              "  </thead>\n",
              "  <tbody>\n",
              "    <tr>\n",
              "      <th>0</th>\n",
              "      <td>0</td>\n",
              "      <td>Abbotsford</td>\n",
              "      <td>85 Turner St</td>\n",
              "      <td>2</td>\n",
              "      <td>h</td>\n",
              "      <td>1480000.0</td>\n",
              "      <td>S</td>\n",
              "      <td>Biggin</td>\n",
              "      <td>3/12/2016</td>\n",
              "      <td>2.5</td>\n",
              "      <td>3067.0</td>\n",
              "      <td>2.0</td>\n",
              "      <td>1.0</td>\n",
              "      <td>1.0</td>\n",
              "      <td>202.0</td>\n",
              "      <td>Yarra</td>\n",
              "      <td>-37.7996</td>\n",
              "      <td>144.9984</td>\n",
              "      <td>Northern Metropolitan</td>\n",
              "      <td>4019.0</td>\n",
              "    </tr>\n",
              "    <tr>\n",
              "      <th>1</th>\n",
              "      <td>1</td>\n",
              "      <td>Abbotsford</td>\n",
              "      <td>25 Bloomburg St</td>\n",
              "      <td>2</td>\n",
              "      <td>h</td>\n",
              "      <td>1035000.0</td>\n",
              "      <td>S</td>\n",
              "      <td>Biggin</td>\n",
              "      <td>4/02/2016</td>\n",
              "      <td>2.5</td>\n",
              "      <td>3067.0</td>\n",
              "      <td>2.0</td>\n",
              "      <td>1.0</td>\n",
              "      <td>0.0</td>\n",
              "      <td>156.0</td>\n",
              "      <td>Yarra</td>\n",
              "      <td>-37.8079</td>\n",
              "      <td>144.9934</td>\n",
              "      <td>Northern Metropolitan</td>\n",
              "      <td>4019.0</td>\n",
              "    </tr>\n",
              "    <tr>\n",
              "      <th>2</th>\n",
              "      <td>2</td>\n",
              "      <td>Abbotsford</td>\n",
              "      <td>5 Charles St</td>\n",
              "      <td>3</td>\n",
              "      <td>h</td>\n",
              "      <td>1465000.0</td>\n",
              "      <td>SP</td>\n",
              "      <td>Biggin</td>\n",
              "      <td>4/03/2017</td>\n",
              "      <td>2.5</td>\n",
              "      <td>3067.0</td>\n",
              "      <td>3.0</td>\n",
              "      <td>2.0</td>\n",
              "      <td>0.0</td>\n",
              "      <td>134.0</td>\n",
              "      <td>Yarra</td>\n",
              "      <td>-37.8093</td>\n",
              "      <td>144.9944</td>\n",
              "      <td>Northern Metropolitan</td>\n",
              "      <td>4019.0</td>\n",
              "    </tr>\n",
              "    <tr>\n",
              "      <th>3</th>\n",
              "      <td>3</td>\n",
              "      <td>Abbotsford</td>\n",
              "      <td>40 Federation La</td>\n",
              "      <td>3</td>\n",
              "      <td>h</td>\n",
              "      <td>850000.0</td>\n",
              "      <td>PI</td>\n",
              "      <td>Biggin</td>\n",
              "      <td>4/03/2017</td>\n",
              "      <td>2.5</td>\n",
              "      <td>3067.0</td>\n",
              "      <td>3.0</td>\n",
              "      <td>2.0</td>\n",
              "      <td>1.0</td>\n",
              "      <td>94.0</td>\n",
              "      <td>Yarra</td>\n",
              "      <td>-37.7969</td>\n",
              "      <td>144.9969</td>\n",
              "      <td>Northern Metropolitan</td>\n",
              "      <td>4019.0</td>\n",
              "    </tr>\n",
              "    <tr>\n",
              "      <th>4</th>\n",
              "      <td>4</td>\n",
              "      <td>Abbotsford</td>\n",
              "      <td>55a Park St</td>\n",
              "      <td>4</td>\n",
              "      <td>h</td>\n",
              "      <td>1600000.0</td>\n",
              "      <td>VB</td>\n",
              "      <td>Nelson</td>\n",
              "      <td>4/06/2016</td>\n",
              "      <td>2.5</td>\n",
              "      <td>3067.0</td>\n",
              "      <td>3.0</td>\n",
              "      <td>1.0</td>\n",
              "      <td>2.0</td>\n",
              "      <td>120.0</td>\n",
              "      <td>Yarra</td>\n",
              "      <td>-37.8072</td>\n",
              "      <td>144.9941</td>\n",
              "      <td>Northern Metropolitan</td>\n",
              "      <td>4019.0</td>\n",
              "    </tr>\n",
              "  </tbody>\n",
              "</table>\n",
              "</div>"
            ],
            "text/plain": [
              "   Unnamed: 0      suburb  ...            region_name  property_count\n",
              "0           0  Abbotsford  ...  Northern Metropolitan          4019.0\n",
              "1           1  Abbotsford  ...  Northern Metropolitan          4019.0\n",
              "2           2  Abbotsford  ...  Northern Metropolitan          4019.0\n",
              "3           3  Abbotsford  ...  Northern Metropolitan          4019.0\n",
              "4           4  Abbotsford  ...  Northern Metropolitan          4019.0\n",
              "\n",
              "[5 rows x 20 columns]"
            ]
          },
          "metadata": {},
          "execution_count": 7
        }
      ]
    },
    {
      "cell_type": "markdown",
      "metadata": {
        "id": "QE7gS76dmEt0"
      },
      "source": [
        "**La media o promedio**\n",
        "\n",
        "La media o promedio se obtiene sumando todos los valores de un conjunto de datos numéricos y dividiéndolos entre la cantidad de valores que tenemos en nuestro conjunto.\n",
        "\n",
        "Vamos a analizar la columna `price`. Veamos cuál es el \"valor típico\" obtenido usando la media (promedio):"
      ]
    },
    {
      "cell_type": "code",
      "metadata": {
        "colab": {
          "base_uri": "https://localhost:8080/"
        },
        "id": "MpL5pghecQVr",
        "outputId": "dae88850-8a09-48f3-c650-e1fd8de2b571"
      },
      "source": [
        "df['price'].mean()"
      ],
      "execution_count": 8,
      "outputs": [
        {
          "output_type": "execute_result",
          "data": {
            "text/plain": [
              "1068141.895071269"
            ]
          },
          "metadata": {},
          "execution_count": 8
        }
      ]
    },
    {
      "cell_type": "markdown",
      "metadata": {
        "id": "IuzvWhi5mEt3"
      },
      "source": [
        "**La mediana**\n",
        "\n",
        "La mediana se obtiene de la siguiente manera:\n",
        "\n",
        "1. Primero ordenamos de manera ascendente nuestros datos\n",
        "2. Luego tomamos el valor que está justo en medio de nuestra secuencia ordenada de valores.\n",
        "3. Si nuestro conjunto tiene un número par de valores y por lo tanto no tiene un valor justo a la mitad de la secuencia, se toma el promedio de los dos valores que se encuentran a la mitad de la secuencia.\n",
        "\n",
        "Ahora veamos el \"valor típico\" obtenido usando la mediana:"
      ]
    },
    {
      "cell_type": "code",
      "metadata": {
        "colab": {
          "base_uri": "https://localhost:8080/"
        },
        "id": "epiWvnB0cYvU",
        "outputId": "51fb4854-745b-4c49-c8db-4c28c9a24735"
      },
      "source": [
        "df['price'].median()"
      ],
      "execution_count": 9,
      "outputs": [
        {
          "output_type": "execute_result",
          "data": {
            "text/plain": [
              "895500.0"
            ]
          },
          "metadata": {},
          "execution_count": 9
        }
      ]
    },
    {
      "cell_type": "markdown",
      "metadata": {
        "id": "WQLTgfLbmEt5"
      },
      "source": [
        "Hemos obtenido valores distintos. Más adelante vamos a aprender qué significa esto y cómo podemos determinar si esta diferencia es relevante o no."
      ]
    },
    {
      "cell_type": "markdown",
      "metadata": {
        "id": "MAldKj8gLqVB"
      },
      "source": [
        "### Ejemplo 2: Media Truncada"
      ]
    },
    {
      "cell_type": "markdown",
      "metadata": {
        "id": "HgPMo4hjmOvI"
      },
      "source": [
        "1. Objetivos:\n",
        "    - Aprender a estimar la media truncada usando scipy.\n",
        " \n",
        "---\n",
        "    \n",
        "2. Desarrollo:"
      ]
    },
    {
      "cell_type": "markdown",
      "metadata": {
        "id": "Fq8IIsVRmOvO"
      },
      "source": [
        "La media truncada es un estimado de locación más *robusto* que el promedio y la mediana. Esto significa que es menos sensible a valores atípicos. La media truncada se obtiene de la siguiente manera:\n",
        "\n",
        "1. Primero ordenamos nuestro conjunto de manera ascendente.\n",
        "2. Después decidimos qué porcentaje de nuestros datos vamos a truncar. Los valores más comunes suelen variar entre 5% y 25%.\n",
        "3. Divide el porcentaje acordado entre dos y elimina esa fracción de tus datos del inicio y del final de tu secuencia. Por ejemplo, si decides truncar un 5%, elimina el 2.5% de tus datos del inicio de tu secuencia y el otro 2.5% del final de tu secuencia.\n",
        "4. Obtén el promedio de los valores restantes.\n",
        "\n",
        "Afortunadamente, no tenemos que hacer esto manualmente. La librería `scipy` ya ofrece un método para obtener la media truncada fácilmente:"
      ]
    },
    {
      "cell_type": "code",
      "metadata": {
        "id": "5C3100flctsf"
      },
      "source": [
        "from scipy import stats"
      ],
      "execution_count": 10,
      "outputs": []
    },
    {
      "cell_type": "code",
      "metadata": {
        "colab": {
          "base_uri": "https://localhost:8080/"
        },
        "id": "KQkBClYlc4ee",
        "outputId": "285e0c89-a85f-4b6b-d16e-0f9c0b563459"
      },
      "source": [
        "print(f\"Media: {df['price'].mean()}\")\n",
        "print(f\"Mediana: {df['price'].median()}\")\n",
        "print(f\"Media Truncada: {stats.trim_mean(df['price'], 0.1)}\")"
      ],
      "execution_count": 11,
      "outputs": [
        {
          "output_type": "stream",
          "name": "stdout",
          "text": [
            "Media: 1068141.895071269\n",
            "Mediana: 895500.0\n",
            "Media Truncada: 973653.7960935823\n"
          ]
        }
      ]
    },
    {
      "cell_type": "markdown",
      "metadata": {
        "id": "laM8HSF-L0R-"
      },
      "source": [
        "### Ejemplo 3: Desviación Estándar"
      ]
    },
    {
      "cell_type": "markdown",
      "metadata": {
        "id": "19BMFF1nmU5z"
      },
      "source": [
        "1. Objetivos:\n",
        "    - Aprender cómo se calcula la desviación estándar\n",
        "    - Aprender a usar `pandas` para calcularla\n",
        " \n",
        "---\n",
        "    \n",
        "2. Desarrollo:"
      ]
    },
    {
      "cell_type": "markdown",
      "metadata": {
        "id": "FrpGNzBFmU55"
      },
      "source": [
        "Para obtener la desviación estándar se llevan a cabo los siguientes pasos:\n",
        "\n",
        "1. Primero se obtiene el promedio de nuestros datos.\n",
        "2. Después sacamos todas las diferencias entre cada valor de nuesrto conjunto y nuestro valor típico.\n",
        "3. Después elevamos todos los resultados al cuadrado.\n",
        "4. Luego se suman todos estos valores.\n",
        "5. Luego se dividen entre la cantidad de valores - 1.\n",
        "6. Finalmente se saca la raíz cuadrada del valor resultante.\n",
        "\n",
        "`pandas` tiene un método con el que podemos calcular la desviación estándar rápidamente:"
      ]
    },
    {
      "cell_type": "code",
      "metadata": {
        "id": "skBuQIenmU5-",
        "colab": {
          "base_uri": "https://localhost:8080/"
        },
        "outputId": "8339bf02-6eac-40b1-c6ed-029e89d20e74"
      },
      "source": [
        "df['price'].std()"
      ],
      "execution_count": 12,
      "outputs": [
        {
          "output_type": "execute_result",
          "data": {
            "text/plain": [
              "643728.1914372866"
            ]
          },
          "metadata": {},
          "execution_count": 12
        }
      ]
    },
    {
      "cell_type": "markdown",
      "metadata": {
        "id": "YDL7oVrzL_40"
      },
      "source": [
        "### Ejemplo 4: Estadísticos de Orden"
      ]
    },
    {
      "cell_type": "markdown",
      "metadata": {
        "id": "9OIN3AV7mZQ5"
      },
      "source": [
        "1. Objetivos:\n",
        "    - Aprender a calcular el rango y los percentiles usando pandas\n",
        " \n",
        "---\n",
        "    \n",
        "2. Desarrollo:"
      ]
    },
    {
      "cell_type": "markdown",
      "metadata": {
        "id": "J3DsQ-2kmZQ_"
      },
      "source": [
        "**Rango**\n",
        "\n",
        "El rango es simplemente la diferencia entre el valor máximo de un conjunto y el valor mínimo de un conjunto. Por lo tanto, podemos obtenerla de esta manera:"
      ]
    },
    {
      "cell_type": "code",
      "metadata": {
        "id": "RLrC56ySmZRE",
        "colab": {
          "base_uri": "https://localhost:8080/"
        },
        "outputId": "7af57e8e-796c-4b87-c82a-47e4f3209ab2"
      },
      "source": [
        "max = df['price'].max()\n",
        "min = df['price'].min()\n",
        "print(f\"El rango es max - min:= {max}-{min} = {max-min}\")"
      ],
      "execution_count": 13,
      "outputs": [
        {
          "output_type": "stream",
          "name": "stdout",
          "text": [
            "El rango es max - min:= 9000000.0-85000.0 = 8915000.0\n"
          ]
        }
      ]
    },
    {
      "cell_type": "markdown",
      "metadata": {
        "id": "pIVytmyxmZRF"
      },
      "source": [
        "**Percentiles**\n",
        "\n",
        "El percentil `P` es un valor que indica que por lo menos `P%` de los valores en el conjunto tienen este valor o un valor menor; mientras que `(100-P)%` de los valores tienen este valor o un valor mayor. Por ejemplo, para obtener el percentil 80 primero ordenamos nuestro conjunto de manera ascendente y después elegimos un valor de manera que el 80% de los valores en nuestro conjunto sean iguales o menores a ese valor.\n",
        "\n",
        "En `pandas`, los percentiles están implementados como cuantiles, que es lo mismo que los percentiles pero en versión fracciones. Es decir, el percentil 80 es lo  mismo que el cuantil 0.8."
      ]
    },
    {
      "cell_type": "code",
      "metadata": {
        "id": "CiT7JRf1mZRG",
        "colab": {
          "base_uri": "https://localhost:8080/"
        },
        "outputId": "02a4f0a6-9ccd-41ff-c9f4-7d9edd85b595"
      },
      "source": [
        "df['price'].quantile(0.8)"
      ],
      "execution_count": 14,
      "outputs": [
        {
          "output_type": "execute_result",
          "data": {
            "text/plain": [
              "1440000.0"
            ]
          },
          "metadata": {},
          "execution_count": 14
        }
      ]
    },
    {
      "cell_type": "markdown",
      "metadata": {
        "id": "7W4oF1sgmZRH"
      },
      "source": [
        "En este caso, el 80% de los valores en nuestro conjunto de datos tienen un valor menor o igual a 1 440 000.\n",
        "\n",
        "Como podrás ya haber imaginado, el valor mínimo equivale al percentil 0 y el valor máximo equivale al percentil 100, mientras que la mediana es exactamente igual que el percentil 50.\n",
        "\n",
        "Sacando los percentiles podemos darnos una idea más o menos precisa de cómo están distribuidos nuestros datos.\n",
        "\n",
        "Por ejemplo:"
      ]
    },
    {
      "cell_type": "code",
      "metadata": {
        "id": "M5OiwWLImZRJ",
        "colab": {
          "base_uri": "https://localhost:8080/"
        },
        "outputId": "930872d9-394d-4065-db12-99ea9ce6545e"
      },
      "source": [
        "print(f'Valor mínimo: {df[\"price\"].min()}')\n",
        "print(f'Percentil 10: {df[\"price\"].quantile(0.1)}')\n",
        "print(f'Percentil 25: {df[\"price\"].quantile(0.25)}')\n",
        "print(f'Percentil 50: {df[\"price\"].median()}')\n",
        "print(f'Percentil 75: {df[\"price\"].quantile(0.75)}')\n",
        "print(f'Percentil 90: {df[\"price\"].quantile(0.9)}')\n",
        "print(f'Valor máximo: {df[\"price\"].max()}')"
      ],
      "execution_count": null,
      "outputs": [
        {
          "output_type": "stream",
          "name": "stdout",
          "text": [
            "Valor mínimo: 85000.0\n",
            "Percentil 10: 470000.0\n",
            "Percentil 25: 640000.0\n",
            "Percentil 50: 895500.0\n",
            "Percentil 75: 1325000.0\n",
            "Percentil 90: 1850000.0\n",
            "Valor máximo: 9000000.0\n"
          ]
        }
      ]
    },
    {
      "cell_type": "markdown",
      "metadata": {
        "id": "GuKH_tKwmZRK"
      },
      "source": [
        "Viendo estos números podemos inferir varias cosas:\n",
        "\n",
        "- Casi todos nuestros datos están concentrados en valores menores a 2 000 000.\n",
        "- Eso quiere decir que tenemos algunos valores atípicos *demasiado* grandes (si los comparamos con el resto de los valores)\n",
        "- La mediana nos estaba dando un número más cercano al verdadero \"valor típico\" que el promedio.\n",
        "- El promedio tenía un sesgo hacia arriba debido a los valores extremadamente grandes.\n",
        "- El rango entre el valor máximo y mínimo no nos da una medida representativa de qué valores pueden tomar nuestros datos.\n",
        "\n",
        "**Rango intercuartílico**\n",
        "\n",
        "Otra medida muy común es lo que llamamos el rango intercuartílico, que es la diferencia entre el percentil 75 y el percentil 25. Este número nos da una idea del rango que tienen los valores más cercanos al valor típico.\n",
        "\n",
        "En nuestro ejemplo, nuestro rango intercuartílico sería:"
      ]
    },
    {
      "cell_type": "code",
      "metadata": {
        "id": "l--pKlcvmZRL",
        "colab": {
          "base_uri": "https://localhost:8080/"
        },
        "outputId": "e7e035dc-1b58-4933-f2f2-9e01d31ae64d"
      },
      "source": [
        "print('IQR:= ',df[\"price\"].quantile(0.75) - df[\"price\"].quantile(0.25))"
      ],
      "execution_count": null,
      "outputs": [
        {
          "output_type": "stream",
          "name": "stdout",
          "text": [
            "IQR:=  685000.0\n"
          ]
        }
      ]
    },
    {
      "cell_type": "markdown",
      "metadata": {
        "id": "cBiAHf7CmZRM"
      },
      "source": [
        "Podemos observar que el rango de los \"valores típicos\" es muchísimo menor al rango total de nuestros datos.\n",
        "\n",
        "¡En la próxima sesión vamos a aprender a visualizar estas estadísticas para que las relaciones entre ellas queden mucho más claras!"
      ]
    },
    {
      "cell_type": "markdown",
      "metadata": {
        "id": "UtIc--rqmU5_"
      },
      "source": [
        "Entre mayor sea nuestro resultado quiere decir que nuestros datos están más dispersos (es decir, hay muchos datos que se alejan de nuestro valor típico); entre menor sea el resultado quiere decir que nuestros datos están menos dispersos (es decir, están más cerca de nuestro valor típico).\n",
        "\n",
        "Obviamente hay que tomar en cuenta el rango de nuestros valores para determinar si nuestra desviación estándar es pequeña o grande. Por ejemplo, una desviación estándar de 10 es muy pequeña si nuestros valores tienen un rango de 1 000 000. En cambio, una desviación estándar de 10 es mucho mayor si nuestros valores tienen un rango de 40."
      ]
    },
    {
      "cell_type": "markdown",
      "metadata": {
        "id": "YA4MaPfMfK8o"
      },
      "source": [
        "## Retos"
      ]
    },
    {
      "cell_type": "markdown",
      "metadata": {
        "id": "i03RXpUuNkAT"
      },
      "source": [
        "### Reto 1: Datos estructurados"
      ]
    },
    {
      "cell_type": "markdown",
      "metadata": {
        "id": "CuCJOQZNzEu6"
      },
      "source": [
        "1. Objetivos:\n",
        "    - Aprender a diferenciar los diferentes tipos de datos estructurados que existen.\n",
        " \n",
        "---\n",
        "    \n",
        "2. Desarrollo:"
      ]
    },
    {
      "cell_type": "code",
      "metadata": {
        "id": "cQJe0RFuzEvj"
      },
      "source": [
        "import pandas as pd"
      ],
      "execution_count": null,
      "outputs": []
    },
    {
      "cell_type": "markdown",
      "metadata": {
        "id": "2rdJ5pB-zEvo"
      },
      "source": [
        "**a) Identificando datos estructurados**\n",
        "\n",
        "A continuación verás varias muestras de datos y sus descripciones. Asígnales una de las categorías de datos estructurados que acabas de aprender. Después, comparte tus hipótesis con la experta y con tus compañeros.\n",
        "\n",
        "Es muy importante saber identificar tipos de datos estructurados, porque las técnicas y estrategias que aprenderás durante este módulo suelen estar dirigidas hacia un tipo de dato específico. La elección de las mejores herramientas viene después de entender a qué tipo de dato nos estamos enfrentando."
      ]
    },
    {
      "cell_type": "markdown",
      "metadata": {
        "id": "cd83NUidzEvq"
      },
      "source": [
        "Muestra 1: Extraída de un conjunto de datos que contiene edades de personas"
      ]
    },
    {
      "cell_type": "code",
      "metadata": {
        "id": "iHr9HYpOzEvr"
      },
      "source": [
        "edades = pd.Series([23, 34, 4, 45, 52, 59, 23, 48, 50, 49, 3, 4, 6, 8, 79, 6, 40, 17, 34, 4, 67, 97, 87, 65, 24, 4, 46])"
      ],
      "execution_count": null,
      "outputs": []
    },
    {
      "cell_type": "markdown",
      "metadata": {
        "id": "Etolxy0SzEvt"
      },
      "source": [
        "¿Qué tipo de dato estructurado tenemos en la serie `edades`?\n",
        "\n",
        "Numerico - Discreto"
      ]
    },
    {
      "cell_type": "markdown",
      "metadata": {
        "id": "wwWnypEPzEvu"
      },
      "source": [
        "Muestra 2: Extraída de un conjunto de datos que contiene evaluaciones de restaurantes hechas por usuarios de una app"
      ]
    },
    {
      "cell_type": "code",
      "metadata": {
        "id": "pkGw7GvGzEvw"
      },
      "source": [
        "evaluaciones = pd.Series([1, 4, 2, 2, 3, 5, 4, 4, 4, 5, 1, 2, 2, 3, 5, 2, 4, 3, 3, 1, 5, 5, 2, 4, 3, 3, 4, 4, 5, 1, 2])"
      ],
      "execution_count": null,
      "outputs": []
    },
    {
      "cell_type": "markdown",
      "metadata": {
        "id": "rJ7AwFMDzEvy"
      },
      "source": [
        "¿Qué tipo de dato estructurado tenemos en la serie `evaluaciones`?\n",
        "\n",
        "Categoricos - Ordinales "
      ]
    },
    {
      "cell_type": "markdown",
      "metadata": {
        "id": "yGxMRFE7zEv1"
      },
      "source": [
        "Muestra 3: Extraída de un conjunto de datos que contiene códigos de respuesta HTTP obtenidos al realizar llamadas constantes a una API"
      ]
    },
    {
      "cell_type": "code",
      "metadata": {
        "id": "KKLfYtQYzEv3"
      },
      "source": [
        "codigos = pd.Series([400, 400, 200, 200, 201, 200, 201, 400, 201, 404, 400, 200, 200, 201, 200, 201, 201, 500, 400, 200])"
      ],
      "execution_count": null,
      "outputs": []
    },
    {
      "cell_type": "markdown",
      "metadata": {
        "id": "HnWkFxNRzEv5"
      },
      "source": [
        "¿Qué tipo de dato estructurado tenemos en la serie `codigos`?\n",
        "\n",
        "Categoricos - Ordinales "
      ]
    },
    {
      "cell_type": "markdown",
      "metadata": {
        "id": "AoqyBUolzEv6"
      },
      "source": [
        "Muestra 4: Extraída de un conjunto de datos que contiene mediciones precisas de temperaturas ambientales hechas durante un verano de la CDMX"
      ]
    },
    {
      "cell_type": "code",
      "metadata": {
        "id": "djuzqaf1zEv7"
      },
      "source": [
        "temperaturas = pd.Series([22.45, 21.34, 20.23, 20.34, 25.54, 24.34, 18.23, 19.35, 18.24, 25.5, 24.33, 20.19, 21.45, 22.45])"
      ],
      "execution_count": null,
      "outputs": []
    },
    {
      "cell_type": "markdown",
      "metadata": {
        "id": "kSVPK4erzEv8"
      },
      "source": [
        "¿Qué tipo de dato estructurado tenemos en la serie `temperaturas`?\n",
        "\n",
        "Numericos - Continuos"
      ]
    },
    {
      "cell_type": "markdown",
      "metadata": {
        "id": "IRv7PEStzEv9"
      },
      "source": [
        "Muestra 5: Extraída de un conjunto de datos que contiene resultados de una encuesta cuyas únicas posibles respuestas eran \"sí\" y \"no\""
      ]
    },
    {
      "cell_type": "code",
      "metadata": {
        "id": "tFSYMsc9zEv-"
      },
      "source": [
        "encuesta = pd.Series([0, 0, 1, 1, 1, 0, 1, 0, 0, 0, 1, 1, 1, 0, 0, 0, 1, 0, 1, 1, 1, 1, 0, 0, 0, 1, 0, 1, 0, 1, 0, 0])"
      ],
      "execution_count": null,
      "outputs": []
    },
    {
      "cell_type": "markdown",
      "metadata": {
        "id": "OugSw71ozEv_"
      },
      "source": [
        "¿Qué tipo de dato estructurado tenemos en la serie `encuesta`?\n",
        "\n",
        "Categoricos - Binarios"
      ]
    },
    {
      "cell_type": "markdown",
      "metadata": {
        "id": "0DEUlokMN9tI"
      },
      "source": [
        "### Reto 2: Estimados de locación"
      ]
    },
    {
      "cell_type": "markdown",
      "metadata": {
        "id": "uoL0jxD8y85U"
      },
      "source": [
        "1. Objetivos:\n",
        "    - Implementar los algoritmos para obtener estimados de locación sin utilizar los métodos builtin de pandas\n",
        " \n",
        "---\n",
        "    \n",
        "2. Desarrollo:"
      ]
    },
    {
      "cell_type": "markdown",
      "metadata": {
        "id": "Qgo3bCqry85Z"
      },
      "source": [
        "a) Implementando estimados de locación\n",
        "\n",
        "Este Reto va a consistir en implementar el promedio y la mediana sin utilizar los métodos `mean` y `median` que vienen incluidos en `pandas`. Implementar algoritmos desde 0 es una excelente práctica que nos ayuda a entenderlos mejor y recordarlos con más precisión.\n",
        "\n",
        "Puedes utilizar `pandas` y otras funciones vectorizadas o de reducción. Las únicas funciones que no están permitidas son `mean` y `median`. Las dos funciones que vas a crear deben recibir una serie de `pandas` y regresar un solo número."
      ]
    },
    {
      "cell_type": "code",
      "metadata": {
        "id": "kGu4ppja0X12"
      },
      "source": [
        "import pandas as pd\n",
        "import numpy as np"
      ],
      "execution_count": null,
      "outputs": []
    },
    {
      "cell_type": "code",
      "metadata": {
        "id": "KPiwOek5y85b"
      },
      "source": [
        "def promedio(serie):\n",
        "    return serie.sum()/len(serie)"
      ],
      "execution_count": null,
      "outputs": []
    },
    {
      "cell_type": "code",
      "metadata": {
        "id": "-qkFJ5hry85d"
      },
      "source": [
        "def mediana(serie):\n",
        "\n",
        "    serie_ordenada = serie.sort_values(ascending=True)\n",
        "    length_serie = len(serie)\n",
        " \n",
        "    if length_serie % 2 == 0:\n",
        "        return (serie_ordenada.iloc[length_serie // 2] + serie_ordenada.iloc[length_serie // 2 + 1]) / 2\n",
        "    else:\n",
        "        return serie_ordenada.iloc[length_serie // 2]"
      ],
      "execution_count": null,
      "outputs": []
    },
    {
      "cell_type": "code",
      "metadata": {
        "colab": {
          "base_uri": "https://localhost:8080/"
        },
        "id": "nVHDaQ21iBqq",
        "outputId": "8e32ee8e-9ff1-4e6e-86c3-c406abbd7dff"
      },
      "source": [
        "edades = pd.Series([23, 34, 4, 45, 52, 59, 23, 48, 50, 49, 3, 4, 6, 8, 79, 6, 40, 17, 34, 4, 67, 97, 87, 65, 24, 4, 46])\n",
        "\n",
        "print(edades.mean())\n",
        "print(promedio(edades))\n",
        "\n",
        "print(edades.median())\n",
        "print(mediana(edades))"
      ],
      "execution_count": null,
      "outputs": [
        {
          "output_type": "stream",
          "name": "stdout",
          "text": [
            "36.22222222222222\n",
            "36.22222222222222\n",
            "34.0\n",
            "34\n"
          ]
        }
      ]
    },
    {
      "cell_type": "markdown",
      "metadata": {
        "id": "AsAlz6iby85e"
      },
      "source": [
        "b) Estimados de locación de diámetros de meteoritos\n",
        "\n",
        "Ahora vamos a utilizar nuestras funciones custom para obtener estimados de locación de un conjunto de datos que contiene información acerca de objetos que orbitaron cerca de la Tierra durante el periodo de enero y febrero de 1995.\n",
        "\n",
        "El dataset se llama 'near_earth_objects-jan_feb_1995-clean.csv' y la columna que vamos a analizar se llama 'estimated_diameter.meters.estimated_diameter_max'. Esta columna contiene el diámetro máximo estimado de cada objeto.\n",
        "\n",
        "El reto es el siguiente:\n",
        "\n",
        "1. Lee el dataset usando `pandas`.\n",
        "2. Obtén el promedio y la mediana usando tus funciones custom y asígnalas a `promedio_diametro` y `mediana_diametro`.\n",
        "3. Corre la celda que contiene el código para verificar tus resultados.\n",
        "4. Responde la pregunta que te regresa la función de verificación."
      ]
    },
    {
      "cell_type": "code",
      "metadata": {
        "id": "seTGRgrHy85f",
        "colab": {
          "base_uri": "https://localhost:8080/",
          "height": 326
        },
        "outputId": "06bd8bb4-985b-4e3e-f3c6-aedc815a7bc8"
      },
      "source": [
        "# Lee el dataset y asígnalo a esta variable\n",
        "\n",
        "df_meteoritos = pd.read_csv('/content/drive/MyDrive/Datasets/Remoto near_earth_objects-jan_feb_1995-clean.csv', index_col=0)\n",
        "df_meteoritos.head()"
      ],
      "execution_count": null,
      "outputs": [
        {
          "output_type": "execute_result",
          "data": {
            "text/html": [
              "<div>\n",
              "<style scoped>\n",
              "    .dataframe tbody tr th:only-of-type {\n",
              "        vertical-align: middle;\n",
              "    }\n",
              "\n",
              "    .dataframe tbody tr th {\n",
              "        vertical-align: top;\n",
              "    }\n",
              "\n",
              "    .dataframe thead th {\n",
              "        text-align: right;\n",
              "    }\n",
              "</style>\n",
              "<table border=\"1\" class=\"dataframe\">\n",
              "  <thead>\n",
              "    <tr style=\"text-align: right;\">\n",
              "      <th></th>\n",
              "      <th>id</th>\n",
              "      <th>name</th>\n",
              "      <th>is_potentially_hazardous_asteroid</th>\n",
              "      <th>estimated_diameter.meters.estimated_diameter_min</th>\n",
              "      <th>estimated_diameter.meters.estimated_diameter_max</th>\n",
              "      <th>close_approach_date</th>\n",
              "      <th>epoch_date_close_approach</th>\n",
              "      <th>orbiting_body</th>\n",
              "      <th>relative_velocity.kilometers_per_second</th>\n",
              "      <th>relative_velocity.kilometers_per_hour</th>\n",
              "    </tr>\n",
              "  </thead>\n",
              "  <tbody>\n",
              "    <tr>\n",
              "      <th>0</th>\n",
              "      <td>2154652</td>\n",
              "      <td>154652 (2004 EP20)</td>\n",
              "      <td>False</td>\n",
              "      <td>483.676488</td>\n",
              "      <td>1081.533507</td>\n",
              "      <td>1995-01-07</td>\n",
              "      <td>789467580000</td>\n",
              "      <td>Earth</td>\n",
              "      <td>16.142864</td>\n",
              "      <td>58114.308667</td>\n",
              "    </tr>\n",
              "    <tr>\n",
              "      <th>1</th>\n",
              "      <td>3153509</td>\n",
              "      <td>(2003 HM)</td>\n",
              "      <td>True</td>\n",
              "      <td>96.506147</td>\n",
              "      <td>215.794305</td>\n",
              "      <td>1995-01-07</td>\n",
              "      <td>789491340000</td>\n",
              "      <td>Earth</td>\n",
              "      <td>12.351044</td>\n",
              "      <td>44463.757734</td>\n",
              "    </tr>\n",
              "    <tr>\n",
              "      <th>2</th>\n",
              "      <td>3516633</td>\n",
              "      <td>(2010 HA)</td>\n",
              "      <td>False</td>\n",
              "      <td>44.111820</td>\n",
              "      <td>98.637028</td>\n",
              "      <td>1995-01-07</td>\n",
              "      <td>789446820000</td>\n",
              "      <td>Earth</td>\n",
              "      <td>6.220435</td>\n",
              "      <td>22393.567277</td>\n",
              "    </tr>\n",
              "    <tr>\n",
              "      <th>3</th>\n",
              "      <td>3837644</td>\n",
              "      <td>(2019 AY3)</td>\n",
              "      <td>False</td>\n",
              "      <td>46.190746</td>\n",
              "      <td>103.285648</td>\n",
              "      <td>1995-01-07</td>\n",
              "      <td>789513900000</td>\n",
              "      <td>Earth</td>\n",
              "      <td>22.478615</td>\n",
              "      <td>80923.015021</td>\n",
              "    </tr>\n",
              "    <tr>\n",
              "      <th>4</th>\n",
              "      <td>3843493</td>\n",
              "      <td>(2019 PY)</td>\n",
              "      <td>False</td>\n",
              "      <td>22.108281</td>\n",
              "      <td>49.435619</td>\n",
              "      <td>1995-01-07</td>\n",
              "      <td>789446700000</td>\n",
              "      <td>Earth</td>\n",
              "      <td>4.998691</td>\n",
              "      <td>17995.288355</td>\n",
              "    </tr>\n",
              "  </tbody>\n",
              "</table>\n",
              "</div>"
            ],
            "text/plain": [
              "        id  ... relative_velocity.kilometers_per_hour\n",
              "0  2154652  ...                          58114.308667\n",
              "1  3153509  ...                          44463.757734\n",
              "2  3516633  ...                          22393.567277\n",
              "3  3837644  ...                          80923.015021\n",
              "4  3843493  ...                          17995.288355\n",
              "\n",
              "[5 rows x 10 columns]"
            ]
          },
          "metadata": {},
          "execution_count": 74
        }
      ]
    },
    {
      "cell_type": "code",
      "metadata": {
        "id": "ufpiRRaZy85g",
        "colab": {
          "base_uri": "https://localhost:8080/"
        },
        "outputId": "c6a43de1-967f-41b0-99cb-cd6489adafca"
      },
      "source": [
        "promedio_diametro = promedio(df_meteoritos['estimated_diameter.meters.estimated_diameter_max'])\n",
        "print(promedio_diametro)"
      ],
      "execution_count": null,
      "outputs": [
        {
          "output_type": "stream",
          "name": "stdout",
          "text": [
            "410.08604223976545\n"
          ]
        }
      ]
    },
    {
      "cell_type": "code",
      "metadata": {
        "id": "xBG1A2Toy85h",
        "colab": {
          "base_uri": "https://localhost:8080/"
        },
        "outputId": "20f1bce2-b637-4ba6-df38-7433c08eb1e7"
      },
      "source": [
        "mediana_diametro = mediana(df_meteoritos['estimated_diameter.meters.estimated_diameter_max'])\n",
        "print(mediana_diametro)"
      ],
      "execution_count": null,
      "outputs": [
        {
          "output_type": "stream",
          "name": "stdout",
          "text": [
            "215.7943048444\n"
          ]
        }
      ]
    },
    {
      "cell_type": "code",
      "metadata": {
        "id": "G6lb-bJoy85j",
        "colab": {
          "base_uri": "https://localhost:8080/"
        },
        "outputId": "c0e9a3a3-0495-4af5-8c4a-10619ecf1e35"
      },
      "source": [
        "# Pídele al experto la función `verificar_resultados` para que puedas correr la siguiente verificación\n",
        "def verificar_resultados(df_meteoritos, promedio_diametro, mediana_diametro):\n",
        "    promedio = df_meteoritos['estimated_diameter.meters.estimated_diameter_max'].mean()\n",
        "    if  round(promedio_diametro, 4) != round(promedio, 4):\n",
        "        print(f'El promedio no fue calculado correctamente.')\n",
        "        print(f'Promedio esperado: {promedio}; Promedio recibido: {promedio_diametro}')\n",
        "        return\n",
        "        \n",
        "\n",
        "    mediana = df_meteoritos['estimated_diameter.meters.estimated_diameter_max'].median()\n",
        "    if round(mediana_diametro, 4) != round(mediana, 4):\n",
        "        print(f'La mediana no fue calculada correctamente.')\n",
        "        print(f'Mediana esperada: {mediana}; Mediana recibida: {mediana_diametro}')\n",
        "        return\n",
        "        \n",
        "    print(f'Los estimados fueron calcualados correctamente.\\n')\n",
        "    print(f'El promedio calculado fue de {promedio_diametro} mientras que la mediana fue de {mediana_diametro}.')\n",
        "    print(f'¿A qué le atribuyes tú la diferencia?')\n",
        "    \n",
        "verificar_resultados(df_meteoritos, promedio_diametro, mediana_diametro)"
      ],
      "execution_count": null,
      "outputs": [
        {
          "output_type": "stream",
          "name": "stdout",
          "text": [
            "Los estimados fueron calcualados correctamente.\n",
            "\n",
            "El promedio calculado fue de 410.08604223976545 mientras que la mediana fue de 215.7943048444.\n",
            "¿A qué le atribuyes tú la diferencia?\n"
          ]
        }
      ]
    },
    {
      "cell_type": "markdown",
      "metadata": {
        "id": "vszgERPDOMkr"
      },
      "source": [
        "### Reto 3: Desviación estándar"
      ]
    },
    {
      "cell_type": "markdown",
      "metadata": {
        "id": "4JUzNW0sB96E"
      },
      "source": [
        "1. Objetivos:\n",
        "    - Utilizar la desviación estándar para realizar un análisis de dispersión de nuestros datos\n",
        " \n",
        "---\n",
        "    \n",
        "2. Desarrollo:"
      ]
    },
    {
      "cell_type": "markdown",
      "metadata": {
        "id": "XFPxc77eB96R"
      },
      "source": [
        "a) Desviación estándar y distribución de los datos\n",
        "\n",
        "Como ya vimos, la desviación estándar es la medida que nos da la \"desviación típica\" (o esperada) de nuestros datos a comparación del promedio. Eso quiere decir que normalmente vamos a esperar que una gran parte de nuestros datos se encuentren a 1 desviación estándar de distancia del promedio. Entre más nos alejamos, menos muestras deberíamos de encontrar.\n",
        "\n",
        "Vamos a comprobar esto usando nuestro dataset de meteoritos que orbitan cerca de la Tierra. Tu Reto consiste en los siguientes pasos:\n",
        "\n",
        "1. Crea un DataFrame con el dataset 'near_earth_objects-jan_feb_1995-clean.csv'.\n",
        "2. Obtén la cantidad total de muestras en tu DataFrame.\n",
        "3. Obtén la desviación estándar de la columna 'estimated_diameter.meters.estimated_diameter_max'. Los siguientes pasos realízalos todos utilizando esta columna.\n",
        "4. Obtén el porcentaje de muestras que están a una distancia de 1 desviación estándar del promedio.\n",
        "5. Obtén el porcentaje de muestras que están a una distancia de 2 desviaciones estándares del promedio.\n",
        "6. Obtén el porcentaje de muestras que están a una distancia de 3 desviaciones estándares del promedio.\n",
        "7. Compara los porcentajes obtenidos y comenta con tus compañeros y la experta tus hallazgos. ¿Qué significa esto? ¿La definición de desviación estándar tiene sentido? ¿Qué puedo inferir acerca de la dispersión de mis datos a partir de los valores obtenidos?\n",
        "\n",
        "> Nota: Para obtener los porcentajes de los subconjuntos primero necesitas filtrar el DataFrame original para que sólo permanezcan las muestras que cumplan con los requisitos.\n",
        "\n",
        "> Nota: Este Reto está diseñado para tener una dificultad media. No te frustres si al principio parece demasiado difícil. Comienza poco a poco, resolviendo el problema en pedazos pequeños, y si no tienes la menor idea de cómo proceder recuerda que la experta está ahí para ayudarte."
      ]
    },
    {
      "cell_type": "code",
      "metadata": {
        "colab": {
          "base_uri": "https://localhost:8080/",
          "height": 615
        },
        "id": "wLXDrPjjk-bf",
        "outputId": "000cfd28-fbc4-4d46-904f-ce576386d633"
      },
      "source": [
        "df_meteoritos = pd.read_csv('/content/drive/MyDrive/Datasets/Remoto near_earth_objects-jan_feb_1995-clean.csv', index_col=0)\n",
        "df_meteoritos.info()\n",
        "df_meteoritos.head()"
      ],
      "execution_count": null,
      "outputs": [
        {
          "output_type": "stream",
          "name": "stdout",
          "text": [
            "<class 'pandas.core.frame.DataFrame'>\n",
            "Int64Index: 333 entries, 0 to 332\n",
            "Data columns (total 10 columns):\n",
            " #   Column                                            Non-Null Count  Dtype  \n",
            "---  ------                                            --------------  -----  \n",
            " 0   id                                                333 non-null    int64  \n",
            " 1   name                                              333 non-null    object \n",
            " 2   is_potentially_hazardous_asteroid                 333 non-null    bool   \n",
            " 3   estimated_diameter.meters.estimated_diameter_min  333 non-null    float64\n",
            " 4   estimated_diameter.meters.estimated_diameter_max  333 non-null    float64\n",
            " 5   close_approach_date                               333 non-null    object \n",
            " 6   epoch_date_close_approach                         333 non-null    int64  \n",
            " 7   orbiting_body                                     333 non-null    object \n",
            " 8   relative_velocity.kilometers_per_second           333 non-null    float64\n",
            " 9   relative_velocity.kilometers_per_hour             333 non-null    float64\n",
            "dtypes: bool(1), float64(4), int64(2), object(3)\n",
            "memory usage: 26.3+ KB\n"
          ]
        },
        {
          "output_type": "execute_result",
          "data": {
            "text/html": [
              "<div>\n",
              "<style scoped>\n",
              "    .dataframe tbody tr th:only-of-type {\n",
              "        vertical-align: middle;\n",
              "    }\n",
              "\n",
              "    .dataframe tbody tr th {\n",
              "        vertical-align: top;\n",
              "    }\n",
              "\n",
              "    .dataframe thead th {\n",
              "        text-align: right;\n",
              "    }\n",
              "</style>\n",
              "<table border=\"1\" class=\"dataframe\">\n",
              "  <thead>\n",
              "    <tr style=\"text-align: right;\">\n",
              "      <th></th>\n",
              "      <th>id</th>\n",
              "      <th>name</th>\n",
              "      <th>is_potentially_hazardous_asteroid</th>\n",
              "      <th>estimated_diameter.meters.estimated_diameter_min</th>\n",
              "      <th>estimated_diameter.meters.estimated_diameter_max</th>\n",
              "      <th>close_approach_date</th>\n",
              "      <th>epoch_date_close_approach</th>\n",
              "      <th>orbiting_body</th>\n",
              "      <th>relative_velocity.kilometers_per_second</th>\n",
              "      <th>relative_velocity.kilometers_per_hour</th>\n",
              "    </tr>\n",
              "  </thead>\n",
              "  <tbody>\n",
              "    <tr>\n",
              "      <th>0</th>\n",
              "      <td>2154652</td>\n",
              "      <td>154652 (2004 EP20)</td>\n",
              "      <td>False</td>\n",
              "      <td>483.676488</td>\n",
              "      <td>1081.533507</td>\n",
              "      <td>1995-01-07</td>\n",
              "      <td>789467580000</td>\n",
              "      <td>Earth</td>\n",
              "      <td>16.142864</td>\n",
              "      <td>58114.308667</td>\n",
              "    </tr>\n",
              "    <tr>\n",
              "      <th>1</th>\n",
              "      <td>3153509</td>\n",
              "      <td>(2003 HM)</td>\n",
              "      <td>True</td>\n",
              "      <td>96.506147</td>\n",
              "      <td>215.794305</td>\n",
              "      <td>1995-01-07</td>\n",
              "      <td>789491340000</td>\n",
              "      <td>Earth</td>\n",
              "      <td>12.351044</td>\n",
              "      <td>44463.757734</td>\n",
              "    </tr>\n",
              "    <tr>\n",
              "      <th>2</th>\n",
              "      <td>3516633</td>\n",
              "      <td>(2010 HA)</td>\n",
              "      <td>False</td>\n",
              "      <td>44.111820</td>\n",
              "      <td>98.637028</td>\n",
              "      <td>1995-01-07</td>\n",
              "      <td>789446820000</td>\n",
              "      <td>Earth</td>\n",
              "      <td>6.220435</td>\n",
              "      <td>22393.567277</td>\n",
              "    </tr>\n",
              "    <tr>\n",
              "      <th>3</th>\n",
              "      <td>3837644</td>\n",
              "      <td>(2019 AY3)</td>\n",
              "      <td>False</td>\n",
              "      <td>46.190746</td>\n",
              "      <td>103.285648</td>\n",
              "      <td>1995-01-07</td>\n",
              "      <td>789513900000</td>\n",
              "      <td>Earth</td>\n",
              "      <td>22.478615</td>\n",
              "      <td>80923.015021</td>\n",
              "    </tr>\n",
              "    <tr>\n",
              "      <th>4</th>\n",
              "      <td>3843493</td>\n",
              "      <td>(2019 PY)</td>\n",
              "      <td>False</td>\n",
              "      <td>22.108281</td>\n",
              "      <td>49.435619</td>\n",
              "      <td>1995-01-07</td>\n",
              "      <td>789446700000</td>\n",
              "      <td>Earth</td>\n",
              "      <td>4.998691</td>\n",
              "      <td>17995.288355</td>\n",
              "    </tr>\n",
              "  </tbody>\n",
              "</table>\n",
              "</div>"
            ],
            "text/plain": [
              "        id  ... relative_velocity.kilometers_per_hour\n",
              "0  2154652  ...                          58114.308667\n",
              "1  3153509  ...                          44463.757734\n",
              "2  3516633  ...                          22393.567277\n",
              "3  3837644  ...                          80923.015021\n",
              "4  3843493  ...                          17995.288355\n",
              "\n",
              "[5 rows x 10 columns]"
            ]
          },
          "metadata": {},
          "execution_count": 88
        }
      ]
    },
    {
      "cell_type": "code",
      "metadata": {
        "colab": {
          "base_uri": "https://localhost:8080/"
        },
        "id": "T0Jlag9rD7MR",
        "outputId": "d7f045d9-f78d-4bfa-97a1-edd9ea3155fc"
      },
      "source": [
        "diametro = 'estimated_diameter.meters.estimated_diameter_max'\n",
        "n = len(df_meteoritos[diametro])    # cantidad de muestras\n",
        "n"
      ],
      "execution_count": null,
      "outputs": [
        {
          "output_type": "execute_result",
          "data": {
            "text/plain": [
              "333"
            ]
          },
          "metadata": {},
          "execution_count": 108
        }
      ]
    },
    {
      "cell_type": "code",
      "metadata": {
        "colab": {
          "base_uri": "https://localhost:8080/"
        },
        "id": "alpsELRMEVbI",
        "outputId": "8573c6d3-ad3a-4bc2-a721-f9f1d22ea122"
      },
      "source": [
        "mean = df_meteoritos[diametro].mean()    # Media de las muestras\n",
        "mean"
      ],
      "execution_count": null,
      "outputs": [
        {
          "output_type": "execute_result",
          "data": {
            "text/plain": [
              "410.0860422397653"
            ]
          },
          "metadata": {},
          "execution_count": 109
        }
      ]
    },
    {
      "cell_type": "code",
      "metadata": {
        "colab": {
          "base_uri": "https://localhost:8080/"
        },
        "id": "TapYzcklEiOQ",
        "outputId": "df2bbb7e-2244-43ae-f1e2-5713ce136c6b"
      },
      "source": [
        "std = df_meteoritos[diametro].std()    # Desviasion de la muestra\n",
        "std"
      ],
      "execution_count": null,
      "outputs": [
        {
          "output_type": "execute_result",
          "data": {
            "text/plain": [
              "614.691591855223"
            ]
          },
          "metadata": {},
          "execution_count": 110
        }
      ]
    },
    {
      "cell_type": "code",
      "metadata": {
        "id": "YJypnKSCmmx5"
      },
      "source": [
        "def desviacion_n_estandar(data, column, mean, std, n_std):\n",
        "  serie = data[column]\n",
        "  n = len(serie)\n",
        "  to_n_std = data[ (serie>= (mean - n_std*std)) & (serie <= (mean + n_std*std)) ]\n",
        "  print((len(to_n_std)*100)/n)"
      ],
      "execution_count": null,
      "outputs": []
    },
    {
      "cell_type": "code",
      "metadata": {
        "colab": {
          "base_uri": "https://localhost:8080/"
        },
        "id": "aUKZKEwrodkK",
        "outputId": "141d245d-8a7c-42f3-8913-c7545848a489"
      },
      "source": [
        "desviacion_n_estandar(df_meteoritos, diametro, mean, std, 1)\n",
        "desviacion_n_estandar(df_meteoritos, diametro, mean, std, 2)\n",
        "desviacion_n_estandar(df_meteoritos, diametro, mean, std, 3)"
      ],
      "execution_count": null,
      "outputs": [
        {
          "output_type": "stream",
          "name": "stdout",
          "text": [
            "90.3903903903904\n",
            "96.3963963963964\n",
            "97.89789789789789\n"
          ]
        }
      ]
    },
    {
      "cell_type": "markdown",
      "metadata": {
        "id": "yh-kaNm0OaM2"
      },
      "source": [
        "### Reto 4: Estadísitcas de Orden"
      ]
    },
    {
      "cell_type": "markdown",
      "metadata": {
        "id": "HI0JK0XnCKAu"
      },
      "source": [
        "1. Objetivos:\n",
        "    - \n",
        " \n",
        "---\n",
        "    \n",
        "2. Desarrollo:"
      ]
    },
    {
      "cell_type": "markdown",
      "metadata": {
        "id": "Li6Cqk3ZCKA9"
      },
      "source": [
        "a) Percentiles para evaluar la dispersión de nuestros datos\n",
        "\n",
        "Tienes debajo 4 series. Cada una de esas series contiene un conjunto de datos conformado por números enteros en el intervalo de 1 a 10. Los datos en cada una de estas series tienen un tipo de dispersión distinta. Los valores típicos cambian así como los valores atípicos. Las medianas también son diferentes.\n",
        "\n",
        "Usando percentiles, obtén información acerca de cuál es el valor donde están concentrados nuestros datos y cómo está configurada su dispersión. Entre más percentiles utilices, obtienes una descripción más detallada, pero como el dataset es muy pequeño, no necesitas tanta granularidad.\n",
        "\n",
        "Obtén los percentiles y comenta con la experta y tus compañeros qué cosas podemos inferir acerca de nuestros datos utilizando estos valores."
      ]
    },
    {
      "cell_type": "code",
      "metadata": {
        "id": "sGVlTn79CKBB"
      },
      "source": [
        "import pandas as pd\n",
        "import seaborn as sn"
      ],
      "execution_count": null,
      "outputs": []
    },
    {
      "cell_type": "code",
      "metadata": {
        "id": "6peovntwCKBE"
      },
      "source": [
        "serie_1 = pd.Series([1, 1, 1, 1, 1, 2, 2, 2, 2, 2, 2, 3, 3, 3, 3, 3, 3, 3, 4, 4, 4, 4, 4, 4, 4, 4, 5, 5, 5, 5, 5, 5, 5, 5, 5, 5, 5, 6, 6, 6, 6, 6, 6, 6, 6, 7, 7, 7, 7, 7, 7, 7, 7, 7, 8, 8, 8, 8, 8, 8, 8, 9, 9, 9, 9, 9, 9, 10, 10, 10, 10, 10])\n",
        "serie_2 = pd.Series([1, 1, 1, 2, 2, 2, 2, 2, 3, 3, 3, 3, 4, 4, 4, 4, 4, 4, 5, 5, 5, 5, 5, 5, 6, 6, 6, 6, 6, 6, 6, 6, 6, 6, 6, 6, 7, 7, 7, 7, 7, 7, 7, 7, 7, 7, 7, 7, 7, 7, 7, 7, 7, 7, 8, 8, 8, 8, 8, 8, 8, 8, 8, 8, 8, 8, 8, 8, 8, 8, 8, 8, 8, 8, 8, 8, 8, 8, 8, 9, 9, 9, 9, 9, 9, 9, 9, 9, 9, 10, 10, 10, 10, 10, 10, 10, 10, 10, 10])\n",
        "serie_3 = pd.Series([1, 1, 2, 2, 2, 3, 3, 3, 4, 4, 4, 4, 4, 4, 4, 4, 4, 4, 4, 4, 4, 4, 4, 5, 5, 5, 5, 5, 5, 5, 5, 5, 5, 5, 5, 5, 5, 5, 5, 5, 5, 5, 5, 5, 5, 5, 5, 5, 5, 5, 5, 5, 5, 5, 5, 5, 5, 5, 5, 5, 5, 5, 5, 5, 5, 5, 5, 5, 6, 6, 6, 6, 6, 6, 6, 6, 6, 6, 6, 6, 6, 6, 6, 6, 6, 6, 6, 6, 6, 6, 6, 6, 6, 6, 6, 6, 6, 6, 6, 6, 6, 6, 6, 6, 7, 7, 7, 7, 7, 7, 7, 7, 7, 7, 7, 7, 7, 7, 7, 7, 7, 7, 8, 8, 8, 8, 9, 9, 9, 10, 10])\n",
        "serie_4 = pd.Series([1, 1, 1, 1, 1, 1, 1, 2, 2, 2, 2, 2, 2, 2, 2, 2, 2, 2, 2, 2, 2, 2, 2, 2, 2, 3, 3, 3, 3, 3, 3, 3, 3, 3, 3, 3, 3, 3, 3, 3, 3, 3, 3, 3, 3, 3, 3, 3, 3, 3, 3, 3, 4, 4, 4, 4, 4, 4, 4, 4, 4, 4, 4, 4, 4, 4, 5, 5, 5, 5, 5, 5, 5, 5, 5, 6, 6, 6, 6, 6, 6, 6, 7, 7, 7, 7, 7, 8, 8, 8, 8, 8, 9, 9, 9, 9, 10, 10, 10])"
      ],
      "execution_count": null,
      "outputs": []
    },
    {
      "cell_type": "code",
      "metadata": {
        "id": "40dyTlqOpOFT"
      },
      "source": [
        "def percentiles(serie, granularidad = 8):\n",
        "  paso = 1/granularidad\n",
        "  for i in range(granularidad+1):\n",
        "    percentil = round(i * paso,2)\n",
        "    print(f'Valor del percentil {percentil*100}: {serie.quantile(percentil)}')\n",
        "  sn.histplot(serie, bins=granularidad)"
      ],
      "execution_count": null,
      "outputs": []
    },
    {
      "cell_type": "code",
      "metadata": {
        "colab": {
          "base_uri": "https://localhost:8080/",
          "height": 418
        },
        "id": "zFQqfN5OpzhD",
        "outputId": "54d7258c-218b-4ff0-9972-3e92ddbad4ec"
      },
      "source": [
        "percentiles(serie_1)"
      ],
      "execution_count": null,
      "outputs": [
        {
          "output_type": "stream",
          "name": "stdout",
          "text": [
            "Valor del percentil 0.0: 1.0\n",
            "Valor del percentil 12.0: 2.0\n",
            "Valor del percentil 25.0: 3.75\n",
            "Valor del percentil 38.0: 5.0\n",
            "Valor del percentil 50.0: 5.0\n",
            "Valor del percentil 62.0: 6.020000000000003\n",
            "Valor del percentil 75.0: 7.25\n",
            "Valor del percentil 88.0: 9.0\n",
            "Valor del percentil 100.0: 10.0\n"
          ]
        },
        {
          "output_type": "display_data",
          "data": {
            "image/png": "[encoded data removed]",
            "text/plain": [
              "<Figure size 432x288 with 1 Axes>"
            ]
          },
          "metadata": {
            "needs_background": "light"
          }
        }
      ]
    },
    {
      "cell_type": "code",
      "metadata": {
        "colab": {
          "base_uri": "https://localhost:8080/",
          "height": 418
        },
        "id": "PM1NSBEFrn8z",
        "outputId": "478f8d1b-c055-49ed-c3f2-bcb6e5020b37"
      },
      "source": [
        "percentiles(serie_2)"
      ],
      "execution_count": null,
      "outputs": [
        {
          "output_type": "stream",
          "name": "stdout",
          "text": [
            "Valor del percentil 0.0: 1.0\n",
            "Valor del percentil 12.0: 3.76\n",
            "Valor del percentil 25.0: 6.0\n",
            "Valor del percentil 38.0: 7.0\n",
            "Valor del percentil 50.0: 7.0\n",
            "Valor del percentil 62.0: 8.0\n",
            "Valor del percentil 75.0: 8.0\n",
            "Valor del percentil 88.0: 9.0\n",
            "Valor del percentil 100.0: 10.0\n"
          ]
        },
        {
          "output_type": "display_data",
          "data": {
            "image/png": "[encoded data removed]",
            "text/plain": [
              "<Figure size 432x288 with 1 Axes>"
            ]
          },
          "metadata": {
            "needs_background": "light"
          }
        }
      ]
    },
    {
      "cell_type": "code",
      "metadata": {
        "colab": {
          "base_uri": "https://localhost:8080/",
          "height": 418
        },
        "id": "6DfUDw_Grwod",
        "outputId": "d8811838-de90-4dec-913a-ef9a30f1fa6d"
      },
      "source": [
        "percentiles(serie_3)"
      ],
      "execution_count": null,
      "outputs": [
        {
          "output_type": "stream",
          "name": "stdout",
          "text": [
            "Valor del percentil 0.0: 1.0\n",
            "Valor del percentil 12.0: 4.0\n",
            "Valor del percentil 25.0: 5.0\n",
            "Valor del percentil 38.0: 5.0\n",
            "Valor del percentil 50.0: 5.0\n",
            "Valor del percentil 62.0: 6.0\n",
            "Valor del percentil 75.0: 6.0\n",
            "Valor del percentil 88.0: 7.0\n",
            "Valor del percentil 100.0: 10.0\n"
          ]
        },
        {
          "output_type": "display_data",
          "data": {
            "image/png": "[encoded data removed]",
            "text/plain": [
              "<Figure size 432x288 with 1 Axes>"
            ]
          },
          "metadata": {
            "needs_background": "light"
          }
        }
      ]
    },
    {
      "cell_type": "code",
      "metadata": {
        "colab": {
          "base_uri": "https://localhost:8080/",
          "height": 418
        },
        "id": "tVi30pm_rx7D",
        "outputId": "bfbd89d5-1e9b-48bd-bf86-f196046ee27d"
      },
      "source": [
        "percentiles(serie_4)"
      ],
      "execution_count": null,
      "outputs": [
        {
          "output_type": "stream",
          "name": "stdout",
          "text": [
            "Valor del percentil 0.0: 1.0\n",
            "Valor del percentil 12.0: 2.0\n",
            "Valor del percentil 25.0: 2.5\n",
            "Valor del percentil 38.0: 3.0\n",
            "Valor del percentil 50.0: 3.0\n",
            "Valor del percentil 62.0: 4.0\n",
            "Valor del percentil 75.0: 5.0\n",
            "Valor del percentil 88.0: 7.239999999999995\n",
            "Valor del percentil 100.0: 10.0\n"
          ]
        },
        {
          "output_type": "display_data",
          "data": {
            "image/png": "[encoded data removed]",
            "text/plain": [
              "<Figure size 432x288 with 1 Axes>"
            ]
          },
          "metadata": {
            "needs_background": "light"
          }
        }
      ]
    },
    {
      "cell_type": "markdown",
      "metadata": {
        "id": "KUpl1kEWCKBG"
      },
      "source": [
        "b) Percentiles para evaluar nuestro dataset de meteoritos\n",
        "\n",
        "Ahora vamos a aplicar los percentiles a nuestro dataset de objetos que han orbitado cerca de la Tierra. Queremos entender cómo están organizados nuestros datos.\n",
        "\n",
        "En el Reto pasado, usamos la desviación estándar para obtener la \"desviación esperada\" de nuestros datos. Aprendimos que la mayoría de nuestros datos están a una distancia de 1 desviación estándar o menos del promedio. Entre más desviaciones estándares añadíamos, menos datos quedaban fuera de nuestros subconjuntos. Lo que no sabemos es dónde están concentrados nuestros datos.\n",
        "\n",
        "Piensa en lo siguiente:\n",
        "\n",
        "Si tenemos un dataset con rango de 1 a 10, y nuestra desviación estándar es 2.5, los datos pueden estar organizados de maneras muy distintas:\n",
        "\n",
        "- Podría ser que el promedio es 3 y que la mayoría de los datos están en el rango de 0.5 a 5.5. En este caso podría haber datos muy distintos al resto en el parte superior del rango total (los valores entre 5.5 y 10).\n",
        "- Podría ser que el promedio es 7 y que la mayoría de los datos están en el rango de 4.5 a 9.5. En este caso los datos atípicos estarían concentrados en la parte inferior del rango total.\n",
        "- Podría ser que el promedio es 5 y que la mayoría de los datos están concentrados en el rango de 2.5 a 7.5. En este caso, lo más normal es que los datos estén alrededor del valor que está justo a la mitad del rango total y es cada vez más raro encontrar datos muy pequeños o muy grandes.\n",
        "\n",
        "Hay muchas otras posibilidades, pero lo importante es darse cuenta de que saber solamente la desviación estándar nos da aún una descripción muy ambigua de nuestros datos. Saber el promedio ya es un primer indicador de lo que está pasando en realidad. Pero saber además los percentiles nos puede dar una idea muchísimo más clara de cómo están acomodados nuestros datos.\n",
        "\n",
        "Lee el dataset 'near_earth_objects-jan_feb_1995-clean.csv' y obtén percentiles de la columna 'estimated_diameter.meters.estimated_diameter_max'. Comenta con tus compañeros y con la experta tus hallazgos y tus hipótesis acerca de qué podemos aprender sobre la organización de nuestros datos usando los percentiles."
      ]
    },
    {
      "cell_type": "code",
      "metadata": {
        "id": "0DMRkLE3CKBK",
        "colab": {
          "base_uri": "https://localhost:8080/",
          "height": 326
        },
        "outputId": "945b6d76-3e62-45cd-b9e0-16e0691d579a"
      },
      "source": [
        "import pandas as pd\n",
        "\n",
        "df = pd.read_csv('/content/drive/MyDrive/Datasets/Remoto near_earth_objects-jan_feb_1995-clean.csv', index_col=0)\n",
        "df.head()"
      ],
      "execution_count": null,
      "outputs": [
        {
          "output_type": "execute_result",
          "data": {
            "text/html": [
              "<div>\n",
              "<style scoped>\n",
              "    .dataframe tbody tr th:only-of-type {\n",
              "        vertical-align: middle;\n",
              "    }\n",
              "\n",
              "    .dataframe tbody tr th {\n",
              "        vertical-align: top;\n",
              "    }\n",
              "\n",
              "    .dataframe thead th {\n",
              "        text-align: right;\n",
              "    }\n",
              "</style>\n",
              "<table border=\"1\" class=\"dataframe\">\n",
              "  <thead>\n",
              "    <tr style=\"text-align: right;\">\n",
              "      <th></th>\n",
              "      <th>id</th>\n",
              "      <th>name</th>\n",
              "      <th>is_potentially_hazardous_asteroid</th>\n",
              "      <th>estimated_diameter.meters.estimated_diameter_min</th>\n",
              "      <th>estimated_diameter.meters.estimated_diameter_max</th>\n",
              "      <th>close_approach_date</th>\n",
              "      <th>epoch_date_close_approach</th>\n",
              "      <th>orbiting_body</th>\n",
              "      <th>relative_velocity.kilometers_per_second</th>\n",
              "      <th>relative_velocity.kilometers_per_hour</th>\n",
              "    </tr>\n",
              "  </thead>\n",
              "  <tbody>\n",
              "    <tr>\n",
              "      <th>0</th>\n",
              "      <td>2154652</td>\n",
              "      <td>154652 (2004 EP20)</td>\n",
              "      <td>False</td>\n",
              "      <td>483.676488</td>\n",
              "      <td>1081.533507</td>\n",
              "      <td>1995-01-07</td>\n",
              "      <td>789467580000</td>\n",
              "      <td>Earth</td>\n",
              "      <td>16.142864</td>\n",
              "      <td>58114.308667</td>\n",
              "    </tr>\n",
              "    <tr>\n",
              "      <th>1</th>\n",
              "      <td>3153509</td>\n",
              "      <td>(2003 HM)</td>\n",
              "      <td>True</td>\n",
              "      <td>96.506147</td>\n",
              "      <td>215.794305</td>\n",
              "      <td>1995-01-07</td>\n",
              "      <td>789491340000</td>\n",
              "      <td>Earth</td>\n",
              "      <td>12.351044</td>\n",
              "      <td>44463.757734</td>\n",
              "    </tr>\n",
              "    <tr>\n",
              "      <th>2</th>\n",
              "      <td>3516633</td>\n",
              "      <td>(2010 HA)</td>\n",
              "      <td>False</td>\n",
              "      <td>44.111820</td>\n",
              "      <td>98.637028</td>\n",
              "      <td>1995-01-07</td>\n",
              "      <td>789446820000</td>\n",
              "      <td>Earth</td>\n",
              "      <td>6.220435</td>\n",
              "      <td>22393.567277</td>\n",
              "    </tr>\n",
              "    <tr>\n",
              "      <th>3</th>\n",
              "      <td>3837644</td>\n",
              "      <td>(2019 AY3)</td>\n",
              "      <td>False</td>\n",
              "      <td>46.190746</td>\n",
              "      <td>103.285648</td>\n",
              "      <td>1995-01-07</td>\n",
              "      <td>789513900000</td>\n",
              "      <td>Earth</td>\n",
              "      <td>22.478615</td>\n",
              "      <td>80923.015021</td>\n",
              "    </tr>\n",
              "    <tr>\n",
              "      <th>4</th>\n",
              "      <td>3843493</td>\n",
              "      <td>(2019 PY)</td>\n",
              "      <td>False</td>\n",
              "      <td>22.108281</td>\n",
              "      <td>49.435619</td>\n",
              "      <td>1995-01-07</td>\n",
              "      <td>789446700000</td>\n",
              "      <td>Earth</td>\n",
              "      <td>4.998691</td>\n",
              "      <td>17995.288355</td>\n",
              "    </tr>\n",
              "  </tbody>\n",
              "</table>\n",
              "</div>"
            ],
            "text/plain": [
              "        id  ... relative_velocity.kilometers_per_hour\n",
              "0  2154652  ...                          58114.308667\n",
              "1  3153509  ...                          44463.757734\n",
              "2  3516633  ...                          22393.567277\n",
              "3  3837644  ...                          80923.015021\n",
              "4  3843493  ...                          17995.288355\n",
              "\n",
              "[5 rows x 10 columns]"
            ]
          },
          "metadata": {},
          "execution_count": 150
        }
      ]
    },
    {
      "cell_type": "code",
      "metadata": {
        "colab": {
          "base_uri": "https://localhost:8080/"
        },
        "id": "SuoOZKStUU_C",
        "outputId": "cee24850-a3d8-46ea-ec21-848cbb341eba"
      },
      "source": [
        "mean = df['estimated_diameter.meters.estimated_diameter_max'].mean()    # Media de las muestras\n",
        "mean"
      ],
      "execution_count": null,
      "outputs": [
        {
          "output_type": "execute_result",
          "data": {
            "text/plain": [
              "410.0860422397653"
            ]
          },
          "metadata": {},
          "execution_count": 151
        }
      ]
    },
    {
      "cell_type": "code",
      "metadata": {
        "colab": {
          "base_uri": "https://localhost:8080/"
        },
        "id": "4z_Xj1vfUU_Q",
        "outputId": "7814cb9f-07dd-497f-ba27-c43010c106b4"
      },
      "source": [
        "std = df['estimated_diameter.meters.estimated_diameter_max'].std()    # Desviasion de la muestra\n",
        "std"
      ],
      "execution_count": null,
      "outputs": [
        {
          "output_type": "execute_result",
          "data": {
            "text/plain": [
              "614.691591855223"
            ]
          },
          "metadata": {},
          "execution_count": 152
        }
      ]
    },
    {
      "cell_type": "code",
      "metadata": {
        "id": "HHqYkqD2Udz2"
      },
      "source": [
        "diametro = 'estimated_diameter.meters.estimated_diameter_max'"
      ],
      "execution_count": null,
      "outputs": []
    },
    {
      "cell_type": "code",
      "metadata": {
        "colab": {
          "base_uri": "https://localhost:8080/",
          "height": 435
        },
        "id": "MUTAz7BHUXAu",
        "outputId": "78e82f22-2159-49b1-eccd-f32bd6211988"
      },
      "source": [
        "percentiles(df[diametro])"
      ],
      "execution_count": null,
      "outputs": [
        {
          "output_type": "stream",
          "name": "stdout",
          "text": [
            "Valor del percentil 0.0: 2.978790628\n",
            "Valor del percentil 12.0: 32.426586113831995\n",
            "Valor del percentil 25.0: 62.2357573367\n",
            "Valor del percentil 38.0: 118.58779085769999\n",
            "Valor del percentil 50.0: 215.7943048444\n",
            "Valor del percentil 62.0: 326.6178974458\n",
            "Valor del percentil 75.0: 517.6544821978\n",
            "Valor del percentil 88.0: 826.613550698137\n",
            "Valor del percentil 100.0: 6516.883821679\n"
          ]
        },
        {
          "output_type": "display_data",
          "data": {
            "image/png": "[encoded data removed]",
            "text/plain": [
              "<Figure size 432x288 with 1 Axes>"
            ]
          },
          "metadata": {
            "needs_background": "light"
          }
        }
      ]
    }
  ]
}